{
 "cells": [
  {
   "cell_type": "markdown",
   "id": "23e06f39-5925-4e5e-9303-28cf7c56a734",
   "metadata": {},
   "source": [
    "# Importing Dependencies"
   ]
  },
  {
   "cell_type": "code",
   "execution_count": 1,
   "id": "1b58dfd4-cb3c-4a02-8377-8becf4756448",
   "metadata": {},
   "outputs": [],
   "source": [
    "import pandas as pd,numpy as np, matplotlib.pyplot as plt, seaborn as sns"
   ]
  },
  {
   "cell_type": "code",
   "execution_count": 2,
   "id": "4451b64a-de6d-4270-b1e6-3846ba35721f",
   "metadata": {},
   "outputs": [],
   "source": [
    "from sklearn.model_selection import train_test_split\n",
    "from sklearn.compose import ColumnTransformer\n",
    "from sklearn.pipeline import Pipeline\n",
    "from sklearn.preprocessing import OneHotEncoder\n",
    "from sklearn.linear_model import LinearRegression, Lasso, Ridge\n",
    "from sklearn.neighbors import KNeighborsRegressor\n",
    "from sklearn.tree import DecisionTreeRegressor\n",
    "from sklearn.ensemble import RandomForestRegressor, GradientBoostingRegressor, AdaBoostRegressor, ExtraTreesRegressor\n",
    "from sklearn.svm import SVR\n",
    "from xgboost import XGBRegressor\n",
    "from sklearn.metrics import r2_score, mean_absolute_error"
   ]
  },
  {
   "cell_type": "code",
   "execution_count": 3,
   "id": "ef6c6f9b-61e7-4946-9895-126865f1e0e9",
   "metadata": {},
   "outputs": [],
   "source": [
    "df = pd.read_csv('laptop_data.csv')\n",
    "df.drop('Unnamed: 0', axis = 1, inplace = True)"
   ]
  },
  {
   "cell_type": "code",
   "execution_count": 4,
   "id": "c88bc0e3-c4e3-49da-9a62-67d95f008d14",
   "metadata": {},
   "outputs": [
    {
     "data": {
      "text/html": [
       "<div>\n",
       "<style scoped>\n",
       "    .dataframe tbody tr th:only-of-type {\n",
       "        vertical-align: middle;\n",
       "    }\n",
       "\n",
       "    .dataframe tbody tr th {\n",
       "        vertical-align: top;\n",
       "    }\n",
       "\n",
       "    .dataframe thead th {\n",
       "        text-align: right;\n",
       "    }\n",
       "</style>\n",
       "<table border=\"1\" class=\"dataframe\">\n",
       "  <thead>\n",
       "    <tr style=\"text-align: right;\">\n",
       "      <th></th>\n",
       "      <th>Company</th>\n",
       "      <th>TypeName</th>\n",
       "      <th>Inches</th>\n",
       "      <th>ScreenResolution</th>\n",
       "      <th>Cpu</th>\n",
       "      <th>Ram</th>\n",
       "      <th>Memory</th>\n",
       "      <th>Gpu</th>\n",
       "      <th>OpSys</th>\n",
       "      <th>Weight</th>\n",
       "      <th>Price</th>\n",
       "    </tr>\n",
       "  </thead>\n",
       "  <tbody>\n",
       "    <tr>\n",
       "      <th>0</th>\n",
       "      <td>Apple</td>\n",
       "      <td>Ultrabook</td>\n",
       "      <td>13.3</td>\n",
       "      <td>IPS Panel Retina Display 2560x1600</td>\n",
       "      <td>Intel Core i5 2.3GHz</td>\n",
       "      <td>8GB</td>\n",
       "      <td>128GB SSD</td>\n",
       "      <td>Intel Iris Plus Graphics 640</td>\n",
       "      <td>macOS</td>\n",
       "      <td>1.37kg</td>\n",
       "      <td>71378.6832</td>\n",
       "    </tr>\n",
       "    <tr>\n",
       "      <th>1</th>\n",
       "      <td>Apple</td>\n",
       "      <td>Ultrabook</td>\n",
       "      <td>13.3</td>\n",
       "      <td>1440x900</td>\n",
       "      <td>Intel Core i5 1.8GHz</td>\n",
       "      <td>8GB</td>\n",
       "      <td>128GB Flash Storage</td>\n",
       "      <td>Intel HD Graphics 6000</td>\n",
       "      <td>macOS</td>\n",
       "      <td>1.34kg</td>\n",
       "      <td>47895.5232</td>\n",
       "    </tr>\n",
       "    <tr>\n",
       "      <th>2</th>\n",
       "      <td>HP</td>\n",
       "      <td>Notebook</td>\n",
       "      <td>15.6</td>\n",
       "      <td>Full HD 1920x1080</td>\n",
       "      <td>Intel Core i5 7200U 2.5GHz</td>\n",
       "      <td>8GB</td>\n",
       "      <td>256GB SSD</td>\n",
       "      <td>Intel HD Graphics 620</td>\n",
       "      <td>No OS</td>\n",
       "      <td>1.86kg</td>\n",
       "      <td>30636.0000</td>\n",
       "    </tr>\n",
       "    <tr>\n",
       "      <th>3</th>\n",
       "      <td>Apple</td>\n",
       "      <td>Ultrabook</td>\n",
       "      <td>15.4</td>\n",
       "      <td>IPS Panel Retina Display 2880x1800</td>\n",
       "      <td>Intel Core i7 2.7GHz</td>\n",
       "      <td>16GB</td>\n",
       "      <td>512GB SSD</td>\n",
       "      <td>AMD Radeon Pro 455</td>\n",
       "      <td>macOS</td>\n",
       "      <td>1.83kg</td>\n",
       "      <td>135195.3360</td>\n",
       "    </tr>\n",
       "    <tr>\n",
       "      <th>4</th>\n",
       "      <td>Apple</td>\n",
       "      <td>Ultrabook</td>\n",
       "      <td>13.3</td>\n",
       "      <td>IPS Panel Retina Display 2560x1600</td>\n",
       "      <td>Intel Core i5 3.1GHz</td>\n",
       "      <td>8GB</td>\n",
       "      <td>256GB SSD</td>\n",
       "      <td>Intel Iris Plus Graphics 650</td>\n",
       "      <td>macOS</td>\n",
       "      <td>1.37kg</td>\n",
       "      <td>96095.8080</td>\n",
       "    </tr>\n",
       "  </tbody>\n",
       "</table>\n",
       "</div>"
      ],
      "text/plain": [
       "  Company   TypeName  Inches                    ScreenResolution  \\\n",
       "0   Apple  Ultrabook    13.3  IPS Panel Retina Display 2560x1600   \n",
       "1   Apple  Ultrabook    13.3                            1440x900   \n",
       "2      HP   Notebook    15.6                   Full HD 1920x1080   \n",
       "3   Apple  Ultrabook    15.4  IPS Panel Retina Display 2880x1800   \n",
       "4   Apple  Ultrabook    13.3  IPS Panel Retina Display 2560x1600   \n",
       "\n",
       "                          Cpu   Ram               Memory  \\\n",
       "0        Intel Core i5 2.3GHz   8GB            128GB SSD   \n",
       "1        Intel Core i5 1.8GHz   8GB  128GB Flash Storage   \n",
       "2  Intel Core i5 7200U 2.5GHz   8GB            256GB SSD   \n",
       "3        Intel Core i7 2.7GHz  16GB            512GB SSD   \n",
       "4        Intel Core i5 3.1GHz   8GB            256GB SSD   \n",
       "\n",
       "                            Gpu  OpSys  Weight        Price  \n",
       "0  Intel Iris Plus Graphics 640  macOS  1.37kg   71378.6832  \n",
       "1        Intel HD Graphics 6000  macOS  1.34kg   47895.5232  \n",
       "2         Intel HD Graphics 620  No OS  1.86kg   30636.0000  \n",
       "3            AMD Radeon Pro 455  macOS  1.83kg  135195.3360  \n",
       "4  Intel Iris Plus Graphics 650  macOS  1.37kg   96095.8080  "
      ]
     },
     "execution_count": 4,
     "metadata": {},
     "output_type": "execute_result"
    }
   ],
   "source": [
    "df.head()"
   ]
  },
  {
   "cell_type": "markdown",
   "id": "5846fe18-8076-4ea0-aef0-58984fb80eef",
   "metadata": {},
   "source": [
    "# Feature Engineering"
   ]
  },
  {
   "cell_type": "code",
   "execution_count": 5,
   "id": "3d5e2d3b-b052-4631-a0e6-2122b0e61086",
   "metadata": {},
   "outputs": [],
   "source": [
    "df['Ram'] = df['Ram'].str[:-2].astype('int8')\n",
    "df['Weight'] = df['Weight'].str[:-2].astype('float32')"
   ]
  },
  {
   "cell_type": "code",
   "execution_count": 6,
   "id": "13a3e3e0-5ab0-4748-9794-5a195d45e679",
   "metadata": {},
   "outputs": [],
   "source": [
    "df['Touchscreen'] = df['ScreenResolution'].apply(lambda x:1 if 'Touchscreen' in x else 0)\n",
    "df['ips'] = df['ScreenResolution'].apply(lambda x:1 if 'IPS' in x else 0)"
   ]
  },
  {
   "cell_type": "code",
   "execution_count": 7,
   "id": "e303fd77-f41e-4173-9158-1f1aa0a186ff",
   "metadata": {},
   "outputs": [],
   "source": [
    "res_ = df['ScreenResolution'].str.split(' ').str[-1].str.split('x')\n",
    "df['xres'] = res_.str[0].astype('int')\n",
    "df['yres'] = res_.str[1].astype('int')"
   ]
  },
  {
   "cell_type": "markdown",
   "id": "7d54bea3-9487-4b47-aec9-b4db66228f8f",
   "metadata": {},
   "source": [
    "### PPI"
   ]
  },
  {
   "cell_type": "markdown",
   "id": "8346243c-111d-448f-92a2-39bda33b251e",
   "metadata": {},
   "source": [
    "\n",
    "$$\n",
    "TPI = \\sqrt{PPI^2} = \\sqrt{\\left(\\frac{width_{pixels}}{width_{inches}}\\right)^2 + \\left(\\frac{height_{pixels}}{height_{inches}}\\right)^2}\n",
    "$$\n"
   ]
  },
  {
   "cell_type": "code",
   "execution_count": 8,
   "id": "95c4906a-0f3f-41fb-956b-4d57cff5f6ba",
   "metadata": {},
   "outputs": [],
   "source": [
    "df['ppi'] = ((df['xres']**2) + (df['yres']**2))**0.5 / df['Inches']"
   ]
  },
  {
   "cell_type": "markdown",
   "id": "ed6096b1-ea27-424f-ba2c-1a3ad9620eab",
   "metadata": {},
   "source": [
    "### Cpu Name"
   ]
  },
  {
   "cell_type": "code",
   "execution_count": 9,
   "id": "e5b37c4a-3c0b-46aa-910e-347863d51ae2",
   "metadata": {},
   "outputs": [],
   "source": [
    "df['Cpu_name'] = df['Cpu'].str.split(' ').str[0:3].str.join(' ')"
   ]
  },
  {
   "cell_type": "code",
   "execution_count": 10,
   "id": "9023ecf3-46b8-4fcd-9149-f1959c071fa7",
   "metadata": {},
   "outputs": [],
   "source": [
    "def fetch_processor(text: str) -> str:\n",
    "    if text == 'Intel Core i5' or text == 'Intel Core i7' or text == 'Intel Core i3':\n",
    "        return text\n",
    "    else:\n",
    "        if text.split()[0] == 'Intel':\n",
    "            return 'Other Intel Processor'\n",
    "        elif text.split()[0] == 'AMD':\n",
    "            return 'AMD Processor'\n",
    "        else:\n",
    "            return text.split()[0]"
   ]
  },
  {
   "cell_type": "code",
   "execution_count": 11,
   "id": "2c4687ff-6e94-41a2-b411-7a06fa25f7f4",
   "metadata": {},
   "outputs": [],
   "source": [
    "df['Cpu_brand']= df['Cpu_name'].apply(fetch_processor)"
   ]
  },
  {
   "cell_type": "markdown",
   "id": "f58c1ac6-6e62-4d71-b02b-f2ec76a9065e",
   "metadata": {},
   "source": [
    "### CPU Category"
   ]
  },
  {
   "cell_type": "code",
   "execution_count": 12,
   "id": "9ac06373-20d8-486e-ba82-58b346ca9c5c",
   "metadata": {
    "scrolled": true
   },
   "outputs": [],
   "source": [
    "df['cpu_cat'] = df['Cpu'].str.split(' ').str[3].str.split('').str[-2]"
   ]
  },
  {
   "cell_type": "code",
   "execution_count": 13,
   "id": "ae673e5f-d26b-4ac9-9b79-43d1d366dc3c",
   "metadata": {},
   "outputs": [],
   "source": [
    "def cpu_cat(row):\n",
    "    company = row['Company']\n",
    "    cpu = row['Cpu']\n",
    "    if company == 'Apple':\n",
    "        return 'High Performance'\n",
    "    else:\n",
    "        if cpu =='H':\n",
    "            return 'High Performance'\n",
    "        elif cpu=='P':\n",
    "            return 'Balance of Performance'\n",
    "        else:\n",
    "            return 'Ultra low power'"
   ]
  },
  {
   "cell_type": "code",
   "execution_count": 14,
   "id": "e0345c98-068c-4cf2-8abe-146a9eb6f2c6",
   "metadata": {},
   "outputs": [],
   "source": [
    "df['CPU_Category'] = df.apply(cpu_cat, axis=1)"
   ]
  },
  {
   "cell_type": "markdown",
   "id": "cf569d1f-9c68-488d-9371-dd1f223f997a",
   "metadata": {},
   "source": [
    "### Memory"
   ]
  },
  {
   "cell_type": "code",
   "execution_count": 15,
   "id": "903ce497-a5f7-4cbe-be3b-79bfa7cbd9ba",
   "metadata": {},
   "outputs": [],
   "source": [
    "memory_ = df['Memory'].str.replace('GB','').str.replace('TB','000')\n",
    "memory_ = memory_.str.split('+', n=1, expand = True)\n",
    "\n",
    "first = memory_[0].str.strip()\n",
    "second = memory_[1].str.strip().fillna('0')\n",
    "\n",
    "df['Layer1HDD'] = first.apply(lambda x: 1 if 'HDD' in x else 0)\n",
    "df['Layer1SSD'] = first.apply(lambda x: 1 if 'SSD' in x else 0)\n",
    "df['Layer1Hybrid'] = first.apply(lambda x: 1 if 'Hybrid' in x else 0)\n",
    "df['Layer1Flash_storage'] = first.apply(lambda x: 1 if 'Flash Storage' in x else 0)\n",
    "\n",
    "df['first']=first.astype('str').str.replace(r'\\D', '', regex = True).astype('int')"
   ]
  },
  {
   "cell_type": "code",
   "execution_count": 16,
   "id": "be14657a-c475-4060-b2ab-ad076a467135",
   "metadata": {},
   "outputs": [],
   "source": [
    "df['Layer2HDD'] = second.apply(lambda x: 1 if 'HDD' in x else 0)\n",
    "df['Layer2SSD'] = second.apply(lambda x: 1 if 'SSD' in x else 0)\n",
    "df['Layer2Hybrid'] = second.apply(lambda x: 1 if 'Hybrid' in x else 0)\n",
    "df['Layer2Flash_storage'] = second.apply(lambda x: 1 if 'Flash Storage' in x else 0)\n",
    "\n",
    "df['second'] = second.str.replace(r'\\D','', regex = True).astype('int')"
   ]
  },
  {
   "cell_type": "code",
   "execution_count": 17,
   "id": "5cedfe00-9e70-40d8-bfc2-d41aa2b7ac0c",
   "metadata": {},
   "outputs": [],
   "source": [
    "df['HDD'] = (df['first'] * df['Layer1HDD'] + df['second'] * df['Layer2HDD'])\n",
    "df['SSD'] = (df['first'] * df['Layer1SSD'] + df['second'] * df['Layer2SSD'])\n",
    "df['Hybrid'] = (df['first'] * df['Layer1Hybrid'] + df['second'] * df['Layer2Hybrid'])\n",
    "df['Flash_storage'] = (df['first']*df['Layer1Flash_storage'] + df['second'] * df['Layer2Flash_storage'])"
   ]
  },
  {
   "cell_type": "markdown",
   "id": "58e2b371-4a69-46bd-9a99-f25b01fc349c",
   "metadata": {},
   "source": [
    "### GPU"
   ]
  },
  {
   "cell_type": "code",
   "execution_count": 18,
   "id": "eaef6589-6f05-4230-8269-443beb285036",
   "metadata": {},
   "outputs": [],
   "source": [
    "df['Gpu_brand'] = df['Gpu'].str.split(' ').str[0]\n",
    "df = df[df['Gpu_brand'] != 'ARM']"
   ]
  },
  {
   "cell_type": "code",
   "execution_count": 19,
   "id": "2e0b329d-2678-49bc-bc86-d322e879da09",
   "metadata": {},
   "outputs": [
    {
     "data": {
      "text/plain": [
       "array(['macOS', 'No OS', 'Windows 10', 'Mac OS X', 'Linux', 'Android',\n",
       "       'Windows 10 S', 'Chrome OS', 'Windows 7'], dtype=object)"
      ]
     },
     "execution_count": 19,
     "metadata": {},
     "output_type": "execute_result"
    }
   ],
   "source": [
    "df['OpSys'].unique()"
   ]
  },
  {
   "cell_type": "code",
   "execution_count": 20,
   "id": "1c96e3af-21d0-43c0-aa66-caef43de8b21",
   "metadata": {},
   "outputs": [],
   "source": [
    "def cat_os(os: str) -> str:\n",
    "    if os == 'Windows 10' or os == 'Windows 7' or os == 'Windows 10 S':\n",
    "        return 'Windows'\n",
    "    elif os == 'macOS' or os == 'Mac OS X':\n",
    "        return 'Mac'\n",
    "    else:\n",
    "        return 'other/ linux/ No os'"
   ]
  },
  {
   "cell_type": "code",
   "execution_count": 21,
   "id": "c66c6a03-12ef-4aaf-bf2c-699d97002dce",
   "metadata": {},
   "outputs": [],
   "source": [
    "df['os'] = df['OpSys'].apply(cat_os)"
   ]
  },
  {
   "cell_type": "markdown",
   "id": "030b8568-4099-4b3e-8835-7406332f80e6",
   "metadata": {},
   "source": [
    "### Dropping columns"
   ]
  },
  {
   "cell_type": "code",
   "execution_count": 22,
   "id": "6815b4b7-e5f7-4324-bc09-657a5722e0b3",
   "metadata": {},
   "outputs": [],
   "source": [
    "df = df.drop(['ScreenResolution', 'Inches','yres','xres','cpu_cat','Cpu_name','Cpu','Layer1HDD', 'Layer1SSD', 'Layer1Hybrid', 'Layer1Flash_storage',\n",
    "       'first', 'Layer2HDD', 'Layer2SSD', 'Layer2Hybrid',\n",
    "       'Layer2Flash_storage', 'second', 'Memory','Hybrid','Flash_storage','OpSys', 'Gpu'], axis =1)"
   ]
  },
  {
   "cell_type": "markdown",
   "id": "f351a554-5047-4672-b16d-cdd0ba4cad03",
   "metadata": {},
   "source": [
    "### FInal Data"
   ]
  },
  {
   "cell_type": "code",
   "execution_count": 23,
   "id": "079cfd56-d50e-44bd-9aaf-8f56d8300b94",
   "metadata": {},
   "outputs": [
    {
     "data": {
      "text/html": [
       "<div>\n",
       "<style scoped>\n",
       "    .dataframe tbody tr th:only-of-type {\n",
       "        vertical-align: middle;\n",
       "    }\n",
       "\n",
       "    .dataframe tbody tr th {\n",
       "        vertical-align: top;\n",
       "    }\n",
       "\n",
       "    .dataframe thead th {\n",
       "        text-align: right;\n",
       "    }\n",
       "</style>\n",
       "<table border=\"1\" class=\"dataframe\">\n",
       "  <thead>\n",
       "    <tr style=\"text-align: right;\">\n",
       "      <th></th>\n",
       "      <th>Company</th>\n",
       "      <th>TypeName</th>\n",
       "      <th>Ram</th>\n",
       "      <th>Weight</th>\n",
       "      <th>Price</th>\n",
       "      <th>Touchscreen</th>\n",
       "      <th>ips</th>\n",
       "      <th>ppi</th>\n",
       "      <th>Cpu_brand</th>\n",
       "      <th>CPU_Category</th>\n",
       "      <th>HDD</th>\n",
       "      <th>SSD</th>\n",
       "      <th>Gpu_brand</th>\n",
       "      <th>os</th>\n",
       "    </tr>\n",
       "  </thead>\n",
       "  <tbody>\n",
       "    <tr>\n",
       "      <th>0</th>\n",
       "      <td>Apple</td>\n",
       "      <td>Ultrabook</td>\n",
       "      <td>8</td>\n",
       "      <td>1.37</td>\n",
       "      <td>71378.6832</td>\n",
       "      <td>0</td>\n",
       "      <td>1</td>\n",
       "      <td>226.983005</td>\n",
       "      <td>Intel Core i5</td>\n",
       "      <td>High Performance</td>\n",
       "      <td>0</td>\n",
       "      <td>128</td>\n",
       "      <td>Intel</td>\n",
       "      <td>Mac</td>\n",
       "    </tr>\n",
       "    <tr>\n",
       "      <th>1</th>\n",
       "      <td>Apple</td>\n",
       "      <td>Ultrabook</td>\n",
       "      <td>8</td>\n",
       "      <td>1.34</td>\n",
       "      <td>47895.5232</td>\n",
       "      <td>0</td>\n",
       "      <td>0</td>\n",
       "      <td>127.677940</td>\n",
       "      <td>Intel Core i5</td>\n",
       "      <td>High Performance</td>\n",
       "      <td>0</td>\n",
       "      <td>0</td>\n",
       "      <td>Intel</td>\n",
       "      <td>Mac</td>\n",
       "    </tr>\n",
       "    <tr>\n",
       "      <th>2</th>\n",
       "      <td>HP</td>\n",
       "      <td>Notebook</td>\n",
       "      <td>8</td>\n",
       "      <td>1.86</td>\n",
       "      <td>30636.0000</td>\n",
       "      <td>0</td>\n",
       "      <td>0</td>\n",
       "      <td>141.211998</td>\n",
       "      <td>Intel Core i5</td>\n",
       "      <td>Ultra low power</td>\n",
       "      <td>0</td>\n",
       "      <td>256</td>\n",
       "      <td>Intel</td>\n",
       "      <td>other/ linux/ No os</td>\n",
       "    </tr>\n",
       "    <tr>\n",
       "      <th>3</th>\n",
       "      <td>Apple</td>\n",
       "      <td>Ultrabook</td>\n",
       "      <td>16</td>\n",
       "      <td>1.83</td>\n",
       "      <td>135195.3360</td>\n",
       "      <td>0</td>\n",
       "      <td>1</td>\n",
       "      <td>220.534624</td>\n",
       "      <td>Intel Core i7</td>\n",
       "      <td>High Performance</td>\n",
       "      <td>0</td>\n",
       "      <td>512</td>\n",
       "      <td>AMD</td>\n",
       "      <td>Mac</td>\n",
       "    </tr>\n",
       "    <tr>\n",
       "      <th>4</th>\n",
       "      <td>Apple</td>\n",
       "      <td>Ultrabook</td>\n",
       "      <td>8</td>\n",
       "      <td>1.37</td>\n",
       "      <td>96095.8080</td>\n",
       "      <td>0</td>\n",
       "      <td>1</td>\n",
       "      <td>226.983005</td>\n",
       "      <td>Intel Core i5</td>\n",
       "      <td>High Performance</td>\n",
       "      <td>0</td>\n",
       "      <td>256</td>\n",
       "      <td>Intel</td>\n",
       "      <td>Mac</td>\n",
       "    </tr>\n",
       "  </tbody>\n",
       "</table>\n",
       "</div>"
      ],
      "text/plain": [
       "  Company   TypeName  Ram  Weight        Price  Touchscreen  ips         ppi  \\\n",
       "0   Apple  Ultrabook    8    1.37   71378.6832            0    1  226.983005   \n",
       "1   Apple  Ultrabook    8    1.34   47895.5232            0    0  127.677940   \n",
       "2      HP   Notebook    8    1.86   30636.0000            0    0  141.211998   \n",
       "3   Apple  Ultrabook   16    1.83  135195.3360            0    1  220.534624   \n",
       "4   Apple  Ultrabook    8    1.37   96095.8080            0    1  226.983005   \n",
       "\n",
       "       Cpu_brand      CPU_Category  HDD  SSD Gpu_brand                   os  \n",
       "0  Intel Core i5  High Performance    0  128     Intel                  Mac  \n",
       "1  Intel Core i5  High Performance    0    0     Intel                  Mac  \n",
       "2  Intel Core i5   Ultra low power    0  256     Intel  other/ linux/ No os  \n",
       "3  Intel Core i7  High Performance    0  512       AMD                  Mac  \n",
       "4  Intel Core i5  High Performance    0  256     Intel                  Mac  "
      ]
     },
     "execution_count": 23,
     "metadata": {},
     "output_type": "execute_result"
    }
   ],
   "source": [
    "df.head()"
   ]
  },
  {
   "cell_type": "markdown",
   "id": "ac8469b2-c0cf-4dea-bf33-ccf9a57abc3f",
   "metadata": {},
   "source": [
    "# EDA"
   ]
  },
  {
   "cell_type": "markdown",
   "id": "1feb509e-fbac-42f6-b511-0cd1489308a6",
   "metadata": {},
   "source": [
    "### Statistics"
   ]
  },
  {
   "cell_type": "code",
   "execution_count": 24,
   "id": "8a2173f0-8a0d-48bc-af6d-c622ced12791",
   "metadata": {},
   "outputs": [
    {
     "name": "stdout",
     "output_type": "stream",
     "text": [
      "<class 'pandas.core.frame.DataFrame'>\n",
      "Index: 1302 entries, 0 to 1302\n",
      "Data columns (total 14 columns):\n",
      " #   Column        Non-Null Count  Dtype  \n",
      "---  ------        --------------  -----  \n",
      " 0   Company       1302 non-null   object \n",
      " 1   TypeName      1302 non-null   object \n",
      " 2   Ram           1302 non-null   int8   \n",
      " 3   Weight        1302 non-null   float32\n",
      " 4   Price         1302 non-null   float64\n",
      " 5   Touchscreen   1302 non-null   int64  \n",
      " 6   ips           1302 non-null   int64  \n",
      " 7   ppi           1302 non-null   float64\n",
      " 8   Cpu_brand     1302 non-null   object \n",
      " 9   CPU_Category  1302 non-null   object \n",
      " 10  HDD           1302 non-null   int64  \n",
      " 11  SSD           1302 non-null   int64  \n",
      " 12  Gpu_brand     1302 non-null   object \n",
      " 13  os            1302 non-null   object \n",
      "dtypes: float32(1), float64(2), int64(4), int8(1), object(6)\n",
      "memory usage: 138.6+ KB\n"
     ]
    }
   ],
   "source": [
    "df.info()"
   ]
  },
  {
   "cell_type": "code",
   "execution_count": 25,
   "id": "73164bdc-1ad4-4cd6-af5b-68f795796fd5",
   "metadata": {},
   "outputs": [
    {
     "data": {
      "text/html": [
       "<div>\n",
       "<style scoped>\n",
       "    .dataframe tbody tr th:only-of-type {\n",
       "        vertical-align: middle;\n",
       "    }\n",
       "\n",
       "    .dataframe tbody tr th {\n",
       "        vertical-align: top;\n",
       "    }\n",
       "\n",
       "    .dataframe thead th {\n",
       "        text-align: right;\n",
       "    }\n",
       "</style>\n",
       "<table border=\"1\" class=\"dataframe\">\n",
       "  <thead>\n",
       "    <tr style=\"text-align: right;\">\n",
       "      <th></th>\n",
       "      <th>Ram</th>\n",
       "      <th>Weight</th>\n",
       "      <th>Price</th>\n",
       "      <th>Touchscreen</th>\n",
       "      <th>ips</th>\n",
       "      <th>ppi</th>\n",
       "      <th>HDD</th>\n",
       "      <th>SSD</th>\n",
       "    </tr>\n",
       "  </thead>\n",
       "  <tbody>\n",
       "    <tr>\n",
       "      <th>count</th>\n",
       "      <td>1302.000000</td>\n",
       "      <td>1302.000000</td>\n",
       "      <td>1302.000000</td>\n",
       "      <td>1302.000000</td>\n",
       "      <td>1302.00000</td>\n",
       "      <td>1302.000000</td>\n",
       "      <td>1302.000000</td>\n",
       "      <td>1302.000000</td>\n",
       "    </tr>\n",
       "    <tr>\n",
       "      <th>mean</th>\n",
       "      <td>8.385561</td>\n",
       "      <td>2.039416</td>\n",
       "      <td>59889.058673</td>\n",
       "      <td>0.146697</td>\n",
       "      <td>0.27957</td>\n",
       "      <td>146.568497</td>\n",
       "      <td>421.013825</td>\n",
       "      <td>183.874040</td>\n",
       "    </tr>\n",
       "    <tr>\n",
       "      <th>std</th>\n",
       "      <td>5.085166</td>\n",
       "      <td>0.665274</td>\n",
       "      <td>37251.183866</td>\n",
       "      <td>0.353940</td>\n",
       "      <td>0.44896</td>\n",
       "      <td>43.069016</td>\n",
       "      <td>580.051728</td>\n",
       "      <td>186.969314</td>\n",
       "    </tr>\n",
       "    <tr>\n",
       "      <th>min</th>\n",
       "      <td>2.000000</td>\n",
       "      <td>0.690000</td>\n",
       "      <td>9270.720000</td>\n",
       "      <td>0.000000</td>\n",
       "      <td>0.00000</td>\n",
       "      <td>90.583402</td>\n",
       "      <td>0.000000</td>\n",
       "      <td>0.000000</td>\n",
       "    </tr>\n",
       "    <tr>\n",
       "      <th>25%</th>\n",
       "      <td>4.000000</td>\n",
       "      <td>1.500000</td>\n",
       "      <td>31914.720000</td>\n",
       "      <td>0.000000</td>\n",
       "      <td>0.00000</td>\n",
       "      <td>127.335675</td>\n",
       "      <td>0.000000</td>\n",
       "      <td>0.000000</td>\n",
       "    </tr>\n",
       "    <tr>\n",
       "      <th>50%</th>\n",
       "      <td>8.000000</td>\n",
       "      <td>2.040000</td>\n",
       "      <td>52107.840000</td>\n",
       "      <td>0.000000</td>\n",
       "      <td>0.00000</td>\n",
       "      <td>141.211998</td>\n",
       "      <td>0.000000</td>\n",
       "      <td>256.000000</td>\n",
       "    </tr>\n",
       "    <tr>\n",
       "      <th>75%</th>\n",
       "      <td>8.000000</td>\n",
       "      <td>2.300000</td>\n",
       "      <td>79303.816800</td>\n",
       "      <td>0.000000</td>\n",
       "      <td>1.00000</td>\n",
       "      <td>157.350512</td>\n",
       "      <td>1000.000000</td>\n",
       "      <td>256.000000</td>\n",
       "    </tr>\n",
       "    <tr>\n",
       "      <th>max</th>\n",
       "      <td>64.000000</td>\n",
       "      <td>4.700000</td>\n",
       "      <td>324954.720000</td>\n",
       "      <td>1.000000</td>\n",
       "      <td>1.00000</td>\n",
       "      <td>352.465147</td>\n",
       "      <td>10000.000000</td>\n",
       "      <td>1024.000000</td>\n",
       "    </tr>\n",
       "  </tbody>\n",
       "</table>\n",
       "</div>"
      ],
      "text/plain": [
       "               Ram       Weight          Price  Touchscreen         ips  \\\n",
       "count  1302.000000  1302.000000    1302.000000  1302.000000  1302.00000   \n",
       "mean      8.385561     2.039416   59889.058673     0.146697     0.27957   \n",
       "std       5.085166     0.665274   37251.183866     0.353940     0.44896   \n",
       "min       2.000000     0.690000    9270.720000     0.000000     0.00000   \n",
       "25%       4.000000     1.500000   31914.720000     0.000000     0.00000   \n",
       "50%       8.000000     2.040000   52107.840000     0.000000     0.00000   \n",
       "75%       8.000000     2.300000   79303.816800     0.000000     1.00000   \n",
       "max      64.000000     4.700000  324954.720000     1.000000     1.00000   \n",
       "\n",
       "               ppi           HDD          SSD  \n",
       "count  1302.000000   1302.000000  1302.000000  \n",
       "mean    146.568497    421.013825   183.874040  \n",
       "std      43.069016    580.051728   186.969314  \n",
       "min      90.583402      0.000000     0.000000  \n",
       "25%     127.335675      0.000000     0.000000  \n",
       "50%     141.211998      0.000000   256.000000  \n",
       "75%     157.350512   1000.000000   256.000000  \n",
       "max     352.465147  10000.000000  1024.000000  "
      ]
     },
     "execution_count": 25,
     "metadata": {},
     "output_type": "execute_result"
    }
   ],
   "source": [
    "df.describe()"
   ]
  },
  {
   "cell_type": "markdown",
   "id": "01196d1d-8275-4427-916c-a46ea43af37a",
   "metadata": {},
   "source": [
    "### Correlation with Price"
   ]
  },
  {
   "cell_type": "code",
   "execution_count": 26,
   "id": "594dd4a6-12ad-446e-b861-fe50e02a0e1d",
   "metadata": {},
   "outputs": [
    {
     "data": {
      "image/png": "[encoded data removed]",
      "text/plain": [
       "<Figure size 1700x600 with 2 Axes>"
      ]
     },
     "metadata": {},
     "output_type": "display_data"
    }
   ],
   "source": [
    "fig, ax = plt.subplots(figsize = (17,6))\n",
    "sns.heatmap(df.select_dtypes(exclude = \n",
    "                 ['object']).corr(), annot=True, ax = ax)\n",
    "plt.show()"
   ]
  },
  {
   "cell_type": "code",
   "execution_count": 27,
   "id": "5565fbbd-df5f-4fab-ab53-f651b2628008",
   "metadata": {},
   "outputs": [
    {
     "data": {
      "image/png": "[encoded data removed]",
      "text/plain": [
       "<Figure size 640x480 with 1 Axes>"
      ]
     },
     "metadata": {},
     "output_type": "display_data"
    }
   ],
   "source": [
    "df['Company'].value_counts(ascending = True).plot(kind = 'barh')\n",
    "plt.show()"
   ]
  },
  {
   "cell_type": "code",
   "execution_count": 28,
   "id": "6c54cb93-9261-474a-9753-fb60142a77f0",
   "metadata": {},
   "outputs": [
    {
     "data": {
      "image/png": "[encoded data removed]",
      "text/plain": [
       "<Figure size 640x480 with 1 Axes>"
      ]
     },
     "metadata": {},
     "output_type": "display_data"
    }
   ],
   "source": [
    "sns.barplot(x = df['Company'], y = df['Price'])\n",
    "plt.xticks(rotation = 45)\n",
    "plt.show()"
   ]
  },
  {
   "cell_type": "markdown",
   "id": "cb641620-7f7a-438e-bb3c-89b076419fa3",
   "metadata": {},
   "source": [
    "laptop prices vary by the company."
   ]
  },
  {
   "cell_type": "code",
   "execution_count": 29,
   "id": "71919680-9972-4bab-a33d-19d679d67560",
   "metadata": {},
   "outputs": [
    {
     "data": {
      "text/plain": [
       "<Axes: ylabel='TypeName'>"
      ]
     },
     "execution_count": 29,
     "metadata": {},
     "output_type": "execute_result"
    },
    {
     "data": {
      "image/png": "[encoded data removed]",
      "text/plain": [
       "<Figure size 640x480 with 1 Axes>"
      ]
     },
     "metadata": {},
     "output_type": "display_data"
    }
   ],
   "source": [
    "df['TypeName'].value_counts(ascending = True).plot(kind = 'barh')"
   ]
  },
  {
   "cell_type": "code",
   "execution_count": 30,
   "id": "075d2e24-8a25-40bf-8d78-7ff3f15778cf",
   "metadata": {},
   "outputs": [
    {
     "data": {
      "image/png": "[encoded data removed]",
      "text/plain": [
       "<Figure size 640x480 with 1 Axes>"
      ]
     },
     "metadata": {},
     "output_type": "display_data"
    }
   ],
   "source": [
    "sns.barplot(x = df['TypeName'], y = df['Price'])\n",
    "plt.xticks(rotation = 45)\n",
    "plt.show()"
   ]
  },
  {
   "cell_type": "markdown",
   "id": "7fee9672-3827-4021-84a5-e8a76d47c3d8",
   "metadata": {},
   "source": [
    "# Model Creation"
   ]
  },
  {
   "cell_type": "markdown",
   "id": "ddc3a61f-ffae-44f1-959e-4185ca43b9da",
   "metadata": {},
   "source": [
    "### Train Test Split"
   ]
  },
  {
   "cell_type": "code",
   "execution_count": 31,
   "id": "31fc662d-ab6c-4327-8007-0ad7c5dcdab5",
   "metadata": {},
   "outputs": [],
   "source": [
    "x = df.drop('Price', axis = 1)\n",
    "y = np.log(df['Price'])"
   ]
  },
  {
   "cell_type": "code",
   "execution_count": 32,
   "id": "b1ba11e9-f577-41d1-b4cb-5ff0bdef08cd",
   "metadata": {},
   "outputs": [
    {
     "name": "stdout",
     "output_type": "stream",
     "text": [
      "<class 'pandas.core.frame.DataFrame'>\n",
      "Index: 1302 entries, 0 to 1302\n",
      "Data columns (total 13 columns):\n",
      " #   Column        Non-Null Count  Dtype  \n",
      "---  ------        --------------  -----  \n",
      " 0   Company       1302 non-null   object \n",
      " 1   TypeName      1302 non-null   object \n",
      " 2   Ram           1302 non-null   int8   \n",
      " 3   Weight        1302 non-null   float32\n",
      " 4   Touchscreen   1302 non-null   int64  \n",
      " 5   ips           1302 non-null   int64  \n",
      " 6   ppi           1302 non-null   float64\n",
      " 7   Cpu_brand     1302 non-null   object \n",
      " 8   CPU_Category  1302 non-null   object \n",
      " 9   HDD           1302 non-null   int64  \n",
      " 10  SSD           1302 non-null   int64  \n",
      " 11  Gpu_brand     1302 non-null   object \n",
      " 12  os            1302 non-null   object \n",
      "dtypes: float32(1), float64(1), int64(4), int8(1), object(6)\n",
      "memory usage: 128.4+ KB\n"
     ]
    }
   ],
   "source": [
    "x.info()"
   ]
  },
  {
   "cell_type": "code",
   "execution_count": 33,
   "id": "b3974616-6b33-4e69-8573-7da67060fe9a",
   "metadata": {},
   "outputs": [],
   "source": [
    "x_train, x_test, y_train, y_test = train_test_split(x,y, random_state = 42, test_size=0.15)"
   ]
  },
  {
   "cell_type": "markdown",
   "id": "0bec24a2-9d4b-4ce8-b30e-bb1c40cff2ed",
   "metadata": {},
   "source": [
    "Splitting Independent variable *X* and dependent variable *y* with random state of 2 and test size of 0.15."
   ]
  },
  {
   "cell_type": "code",
   "execution_count": 34,
   "id": "a58a9eda-0286-4a9b-ba49-8ff2653f5bfa",
   "metadata": {},
   "outputs": [
    {
     "name": "stdout",
     "output_type": "stream",
     "text": [
      "R2 score = 0.7925376029049772 \n",
      " the MAE is 0.21373185083694718\n"
     ]
    }
   ],
   "source": [
    "step1 = ColumnTransformer(transformers=[\n",
    "    ('col_tnf', OneHotEncoder(sparse_output=False, drop='first'), [0,1,7,8,11,12])\n",
    "], remainder = 'passthrough')\n",
    "\n",
    "step2 = LinearRegression()\n",
    "\n",
    "pipe = Pipeline([\n",
    "    ('step1',step1),\n",
    "    ('step2', step2)\n",
    "])\n",
    "\n",
    "pipe.fit(x_train,y_train)\n",
    "\n",
    "y_pred = pipe.predict(x_test)\n",
    "\n",
    "print(f\"R2 score = {r2_score(y_test,y_pred)} \\n the MAE is {mean_absolute_error(y_test,y_pred)}\")"
   ]
  },
  {
   "cell_type": "markdown",
   "id": "06c9509d-0f48-4e61-83aa-77db79d90ea8",
   "metadata": {},
   "source": [
    "### Ridge"
   ]
  },
  {
   "cell_type": "code",
   "execution_count": 35,
   "id": "b1862db9-405e-4219-9043-0c2423a536db",
   "metadata": {},
   "outputs": [
    {
     "name": "stdout",
     "output_type": "stream",
     "text": [
      "R2 score = 0.7925376029049772 \n",
      " the MAE is 0.21373185083694718\n"
     ]
    }
   ],
   "source": [
    "step1 = ColumnTransformer(transformers=[\n",
    "    ('col_tnf', OneHotEncoder(sparse_output=False, drop='first'), [0,1,7,8,11,12])\n",
    "], remainder = 'passthrough')\n",
    "\n",
    "step2 = Ridge(alpha = 10)\n",
    "\n",
    "pipe1 = Pipeline([\n",
    "    ('step1', step1),\n",
    "    ('step2', step2)\n",
    "])\n",
    "\n",
    "pipe1.fit(x_train,y_train)\n",
    "y_pred1 = pipe.predict(x_test)\n",
    "print(f\"R2 score = {r2_score(y_test,y_pred1)} \\n the MAE is {mean_absolute_error(y_test,y_pred1)}\")"
   ]
  },
  {
   "cell_type": "code",
   "execution_count": 36,
   "id": "e7fc7dcf-9740-4363-87e7-daf7c5a9a264",
   "metadata": {},
   "outputs": [
    {
     "name": "stdout",
     "output_type": "stream",
     "text": [
      "R2 score = 0.7868944979013376 \n",
      " the MAE is 0.21865281716251295\n"
     ]
    }
   ],
   "source": [
    "step1 = ColumnTransformer(transformers=[\n",
    "    ('col_tnf', OneHotEncoder(sparse_output=False, drop='first'), [0,1,7,8,11,12])\n",
    "], remainder = 'passthrough')\n",
    "\n",
    "step2 = Lasso(alpha = 0.001)\n",
    "\n",
    "pipe2 = Pipeline([\n",
    "    ('step1', step1),\n",
    "    ('step2', step2)\n",
    "])\n",
    "\n",
    "pipe2.fit(x_train,y_train)\n",
    "y_pred1 = pipe2.predict(x_test)\n",
    "print(f\"R2 score = {r2_score(y_test,y_pred1)} \\n the MAE is {mean_absolute_error(y_test,y_pred1)}\")"
   ]
  },
  {
   "cell_type": "code",
   "execution_count": 37,
   "id": "a717476e-8246-42e5-a4b9-e248a62e5b90",
   "metadata": {},
   "outputs": [
    {
     "name": "stdout",
     "output_type": "stream",
     "text": [
      "R2 score = 0.7569502689812004 \n",
      " the MAE is 0.22737485746404565\n"
     ]
    }
   ],
   "source": [
    "step1 = ColumnTransformer(transformers=[\n",
    "    ('col_tnf', OneHotEncoder(sparse_output=False, drop='first'), [0,1,7,8,11,12])\n",
    "], remainder = 'passthrough')\n",
    "\n",
    "step2 = KNeighborsRegressor(n_neighbors=7)\n",
    "\n",
    "pipe3 = Pipeline([\n",
    "    ('step1', step1),\n",
    "    ('step2', step2)\n",
    "])\n",
    "\n",
    "pipe3.fit(x_train,y_train)\n",
    "y_pred1 = pipe3.predict(x_test)\n",
    "print(f\"R2 score = {r2_score(y_test,y_pred1)} \\n the MAE is {mean_absolute_error(y_test,y_pred1)}\")"
   ]
  },
  {
   "cell_type": "code",
   "execution_count": 38,
   "id": "045249b5-be4f-4c83-9491-5c942b4ad4e6",
   "metadata": {},
   "outputs": [
    {
     "name": "stdout",
     "output_type": "stream",
     "text": [
      "R2 score = 0.82523957229396 \n",
      " the MAE is 0.19195608383626267\n"
     ]
    }
   ],
   "source": [
    "step1 = ColumnTransformer(transformers=[\n",
    "    ('col_tnf', OneHotEncoder(sparse_output=False, drop='first'), [0,1,7,8,11,12])\n",
    "], remainder = 'passthrough')\n",
    "\n",
    "step2 = DecisionTreeRegressor(max_depth = 9)\n",
    "\n",
    "pipe3 = Pipeline([\n",
    "    ('step1', step1),\n",
    "    ('step2', step2)\n",
    "])\n",
    "\n",
    "pipe3.fit(x_train,y_train)\n",
    "y_pred1 = pipe3.predict(x_test)\n",
    "print(f\"R2 score = {r2_score(y_test,y_pred1)} \\n the MAE is {mean_absolute_error(y_test,y_pred1)}\")"
   ]
  },
  {
   "cell_type": "code",
   "execution_count": 39,
   "id": "b85d7856-2508-4a0c-8a91-237752e79eb9",
   "metadata": {},
   "outputs": [
    {
     "name": "stdout",
     "output_type": "stream",
     "text": [
      "R2 score = 0.8090259763602194 \n",
      " the MAE is 0.19382585922299198\n"
     ]
    }
   ],
   "source": [
    "step1 = ColumnTransformer(transformers=[\n",
    "    ('col_tnf', OneHotEncoder(sparse_output=False, drop='first'), [0,1,7,8,11,12])\n",
    "], remainder = 'passthrough')\n",
    "\n",
    "step2 = SVR(kernel='rbf', C = 10000, epsilon=0.1)\n",
    "\n",
    "pipe3 = Pipeline([\n",
    "    ('step1', step1),\n",
    "    ('step2', step2)\n",
    "])\n",
    "\n",
    "pipe3.fit(x_train,y_train)\n",
    "y_pred1 = pipe3.predict(x_test)\n",
    "print(f\"R2 score = {r2_score(y_test,y_pred1)} \\n the MAE is {mean_absolute_error(y_test,y_pred1)}\")"
   ]
  },
  {
   "cell_type": "code",
   "execution_count": 40,
   "id": "53216711-1afd-47cf-a086-2dea83b2bb40",
   "metadata": {},
   "outputs": [
    {
     "name": "stdout",
     "output_type": "stream",
     "text": [
      "R2 score = 0.8623269384747831 \n",
      " the MAE is 0.16578806169790516\n"
     ]
    }
   ],
   "source": [
    "step1 = ColumnTransformer(transformers=[\n",
    "    ('col_tnf', OneHotEncoder(sparse_output=False, drop='first'), [0,1,7,8,11,12])\n",
    "], remainder = 'passthrough')\n",
    "\n",
    "step2 = RandomForestRegressor(n_estimators=150, random_state=12, max_samples=0.7, max_features=0.79, max_depth=15)\n",
    "\n",
    "pipe3 = Pipeline([\n",
    "    ('step1', step1),\n",
    "    ('step2', step2)\n",
    "])\n",
    "\n",
    "pipe3.fit(x_train,y_train)\n",
    "y_pred1 = pipe3.predict(x_test)\n",
    "print(f\"R2 score = {r2_score(y_test,y_pred1)} \\n the MAE is {mean_absolute_error(y_test,y_pred1)}\")"
   ]
  },
  {
   "cell_type": "code",
   "execution_count": 41,
   "id": "b2524604-7f71-403f-8003-e0f737b3a04e",
   "metadata": {},
   "outputs": [
    {
     "name": "stdout",
     "output_type": "stream",
     "text": [
      "R2 score = 0.7371423458075324 \n",
      " the MAE is 0.25245009134343255\n"
     ]
    }
   ],
   "source": [
    "step1 = ColumnTransformer(transformers=[\n",
    "    ('col_tnf', OneHotEncoder(sparse_output=False, drop='first'), [0,1,7,8,11,12])\n",
    "], remainder = 'passthrough')\n",
    "\n",
    "step2 = AdaBoostRegressor(n_estimators=20, learning_rate=1.0)\n",
    "\n",
    "pipe3 = Pipeline([\n",
    "    ('step1', step1),\n",
    "    ('step2', step2)\n",
    "])\n",
    "\n",
    "pipe3.fit(x_train,y_train)\n",
    "y_pred1 = pipe3.predict(x_test)\n",
    "print(f\"R2 score = {r2_score(y_test,y_pred1)} \\n the MAE is {mean_absolute_error(y_test,y_pred1)}\")"
   ]
  },
  {
   "cell_type": "code",
   "execution_count": 42,
   "id": "21de05be-701c-4196-814d-26b8b2166e01",
   "metadata": {},
   "outputs": [
    {
     "name": "stdout",
     "output_type": "stream",
     "text": [
      "R2 score = 0.8284983154762758 \n",
      " the MAE is 0.18556318050644463\n"
     ]
    }
   ],
   "source": [
    "step1 = ColumnTransformer(transformers=[\n",
    "    ('col_tnf', OneHotEncoder(sparse_output=False, drop='first'), [0,1,7,8,11,12])\n",
    "], remainder = 'passthrough')\n",
    "\n",
    "step2 = GradientBoostingRegressor(n_estimators=450, learning_rate=1.0, max_depth=9)\n",
    "\n",
    "pipe3 = Pipeline([\n",
    "    ('step1', step1),\n",
    "    ('step2', step2)\n",
    "])\n",
    "\n",
    "pipe3.fit(x_train,y_train)\n",
    "y_pred1 = pipe3.predict(x_test)\n",
    "print(f\"R2 score = {r2_score(y_test,y_pred1)} \\n the MAE is {mean_absolute_error(y_test,y_pred1)}\")"
   ]
  },
  {
   "cell_type": "code",
   "execution_count": 43,
   "id": "a426993d-6e79-4c76-b36e-ba40fa2d89e9",
   "metadata": {},
   "outputs": [
    {
     "name": "stdout",
     "output_type": "stream",
     "text": [
      "R2 score = 0.8753582420587099 \n",
      " the MAE is 0.15968478643201917\n"
     ]
    }
   ],
   "source": [
    "step1 = ColumnTransformer(transformers=[\n",
    "    ('col_tnf', OneHotEncoder(sparse_output=False, drop='first'), [0,1,7,8,11,12])\n",
    "], remainder = 'passthrough')\n",
    "\n",
    "step2 = XGBRegressor(n_estimators = 45, max_depth = 5, learning_rate = 0.5)\n",
    "\n",
    "pipe3 = Pipeline([\n",
    "    ('step1', step1),\n",
    "    ('step2', step2)\n",
    "])\n",
    "\n",
    "pipe3.fit(x_train,y_train)\n",
    "y_pred1 = pipe3.predict(x_test)\n",
    "print(f\"R2 score = {r2_score(y_test,y_pred1)} \\n the MAE is {mean_absolute_error(y_test,y_pred1)}\")"
   ]
  },
  {
   "cell_type": "code",
   "execution_count": 55,
   "id": "3c64e940-31e4-46ce-a39d-d64d68b4be3d",
   "metadata": {},
   "outputs": [
    {
     "name": "stdout",
     "output_type": "stream",
     "text": [
      "R2 score 0.8478520898058277\n",
      "MAE 0.18161102353901037\n"
     ]
    }
   ],
   "source": [
    "from sklearn.ensemble import VotingRegressor,StackingRegressor\n",
    "\n",
    "step1 = ColumnTransformer(transformers=[\n",
    "    ('col_tnf',OneHotEncoder(sparse_output=False,drop='first', handle_unknown='ignore'),[0,1,7,8,11,12])\n",
    "],remainder='passthrough')\n",
    "\n",
    "\n",
    "estimators = [\n",
    "    ('rf', RandomForestRegressor(n_estimators=350,random_state=3,max_samples=0.5,max_features=0.75,max_depth=15)),\n",
    "    ('gbdt',GradientBoostingRegressor(n_estimators=100,max_features=0.5)),\n",
    "    ('xgb', XGBRegressor(n_estimators=25,learning_rate=0.3,max_depth=5))\n",
    "]\n",
    "\n",
    "step2 = StackingRegressor(estimators=estimators, final_estimator=Ridge(alpha=100))\n",
    "\n",
    "pipe = Pipeline([\n",
    "    ('step1',step1),\n",
    "    ('step2',step2)\n",
    "])\n",
    "\n",
    "pipe.fit(x_train,y_train)\n",
    "\n",
    "y_pred = pipe.predict(x_test)\n",
    "\n",
    "print('R2 score',r2_score(y_test,y_pred))\n",
    "print('MAE',mean_absolute_error(y_test,y_pred))"
   ]
  },
  {
   "cell_type": "code",
   "execution_count": 50,
   "id": "bf3d1f35-3674-4115-b7b5-05d9fe711c34",
   "metadata": {},
   "outputs": [],
   "source": [
    "import pickle"
   ]
  },
  {
   "cell_type": "code",
   "execution_count": 56,
   "id": "91751fed-22fa-48f5-ba25-148c1484e552",
   "metadata": {},
   "outputs": [],
   "source": [
    "pickle.dump(df,open('df.pkl','wb'))\n",
    "pickle.dump(pipe,open('pipe.pkl','wb'))"
   ]
  },
  {
   "cell_type": "code",
   "execution_count": 60,
   "id": "e5cd3a4e-0964-4735-b0fa-4dc6529b6ec2",
   "metadata": {},
   "outputs": [
    {
     "data": {
      "text/plain": [
       "array(['Apple', 'Ultrabook', 16, 1.83, 0, 1, 220.53462386625827,\n",
       "       'Intel Core i7', 'High Performance', 0, 512, 'AMD', 'Mac'],\n",
       "      dtype=object)"
      ]
     },
     "execution_count": 60,
     "metadata": {},
     "output_type": "execute_result"
    }
   ],
   "source": [
    "x.iloc[3].values"
   ]
  },
  {
   "cell_type": "code",
   "execution_count": 53,
   "id": "a680bfab-38d2-448a-8857-f75073b38301",
   "metadata": {},
   "outputs": [
    {
     "data": {
      "text/plain": [
       "Index(['Company', 'TypeName', 'Ram', 'Weight', 'Price', 'Touchscreen', 'ips',\n",
       "       'ppi', 'Cpu_brand', 'CPU_Category', 'HDD', 'SSD', 'Gpu_brand', 'os'],\n",
       "      dtype='object')"
      ]
     },
     "execution_count": 53,
     "metadata": {},
     "output_type": "execute_result"
    }
   ],
   "source": [
    "x.iloc[].columns"
   ]
  },
  {
   "cell_type": "code",
   "execution_count": 62,
   "id": "6492dbe4-4eef-4908-95a7-64af37c98f38",
   "metadata": {},
   "outputs": [],
   "source": [
    "query = np.array([['Apple', 'Ultrabook', 16, 1.83, 0, 1, 220.53462386625827,\n",
    "       'Intel Core i7', 'High Performance', 0, 512, 'AMD', 'Mac']])"
   ]
  },
  {
   "cell_type": "code",
   "execution_count": 65,
   "id": "f38a033f-a1ed-4fa7-8291-5b5e2f2fe699",
   "metadata": {},
   "outputs": [
    {
     "data": {
      "text/plain": [
       "array([11.72654231])"
      ]
     },
     "execution_count": 65,
     "metadata": {},
     "output_type": "execute_result"
    }
   ],
   "source": [
    "# Ensure the query is a DataFrame with the correct column names\n",
    "query_df = pd.DataFrame(query, columns=x_train.columns)\n",
    "\n",
    "# Use the pipeline to preprocess the query\n",
    "pipe.predict(query_df)\n"
   ]
  },
  {
   "cell_type": "code",
   "execution_count": 66,
   "id": "57d1a54a-7391-4f6f-b1e9-8d141294839a",
   "metadata": {},
   "outputs": [
    {
     "data": {
      "text/plain": [
       "Index(['Company', 'TypeName', 'Ram', 'Weight', 'Price', 'Touchscreen', 'ips',\n",
       "       'ppi', 'Cpu_brand', 'CPU_Category', 'HDD', 'SSD', 'Gpu_brand', 'os'],\n",
       "      dtype='object')"
      ]
     },
     "execution_count": 66,
     "metadata": {},
     "output_type": "execute_result"
    }
   ],
   "source": [
    "df.columns"
   ]
  }
 ],
 "metadata": {
  "kernelspec": {
   "display_name": "Python 3 (ipykernel)",
   "language": "python",
   "name": "python3"
  },
  "language_info": {
   "codemirror_mode": {
    "name": "ipython",
    "version": 3
   },
   "file_extension": ".py",
   "mimetype": "text/x-python",
   "name": "python",
   "nbconvert_exporter": "python",
   "pygments_lexer": "ipython3",
   "version": "3.11.2"
  }
 },
 "nbformat": 4,
 "nbformat_minor": 5
}
